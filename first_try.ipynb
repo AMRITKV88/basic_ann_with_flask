{
 "metadata": {
  "language_info": {
   "codemirror_mode": {
    "name": "ipython",
    "version": 3
   },
   "file_extension": ".py",
   "mimetype": "text/x-python",
   "name": "python",
   "nbconvert_exporter": "python",
   "pygments_lexer": "ipython3",
   "version": 3
  },
  "orig_nbformat": 2,
  "kernelspec": {
   "name": "python_defaultSpec_1596955423266",
   "display_name": "Python 3.8.5 64-bit"
  }
 },
 "nbformat": 4,
 "nbformat_minor": 2,
 "cells": [
  {
   "cell_type": "code",
   "execution_count": 409,
   "metadata": {},
   "outputs": [],
   "source": [
    "import numpy as np\n",
    "import pandas as pd \n",
    "import keras\n",
    "import matplotlib.pyplot as plt"
   ]
  },
  {
   "cell_type": "code",
   "execution_count": 410,
   "metadata": {},
   "outputs": [],
   "source": [
    "# Load Dataset - Which gives data of a person with class label whether the customer will leave the bank or not\n",
    "dataset = pd.read_csv('Bank_Customer_Prediction.csv')"
   ]
  },
  {
   "cell_type": "code",
   "execution_count": 411,
   "metadata": {},
   "outputs": [],
   "source": [
    "# Differentiate class label y from entire dataset\n",
    "x = dataset.iloc[:,3:13].values\n",
    "y = dataset.iloc[:,13].values"
   ]
  },
  {
   "cell_type": "code",
   "execution_count": 412,
   "metadata": {},
   "outputs": [],
   "source": [
    "from sklearn.preprocessing import LabelEncoder, OneHotEncoder"
   ]
  },
  {
   "cell_type": "code",
   "execution_count": 413,
   "metadata": {},
   "outputs": [],
   "source": [
    "# Label Encoding for the dataset's categorical data (here geography column)\n",
    "labelEncoder_X_1 = LabelEncoder()\n",
    "x[:,1] = labelEncoder_X_1.fit_transform(x[:,1])"
   ]
  },
  {
   "cell_type": "code",
   "execution_count": 414,
   "metadata": {},
   "outputs": [],
   "source": [
    "# Label Encoding for the dataset's categorical data (here gender column)\n",
    "labelEncoder_X_2 = LabelEncoder()\n",
    "x[:,2] = labelEncoder_X_2.fit_transform(x[:,2])"
   ]
  },
  {
   "cell_type": "code",
   "execution_count": 415,
   "metadata": {},
   "outputs": [],
   "source": [
    "#One Hot Encoding for Geography column\n",
    "from sklearn.compose import ColumnTransformer\n",
    "col = ColumnTransformer(transformers = [('encoder', OneHotEncoder(),[1])],remainder='passthrough')\n",
    "x = np.array(col.fit_transform(x))\n"
   ]
  },
  {
   "cell_type": "code",
   "execution_count": 416,
   "metadata": {},
   "outputs": [],
   "source": [
    "# Splitting data into training and testing set\n",
    "from sklearn.model_selection import train_test_split\n",
    "x_train, x_test, y_train, y_test = train_test_split(x,y,test_size = 0.2, random_state=0)"
   ]
  },
  {
   "cell_type": "code",
   "execution_count": 417,
   "metadata": {},
   "outputs": [],
   "source": [
    "# Normalizing data / scaling data\n",
    "from sklearn.preprocessing import StandardScaler\n",
    "sc = StandardScaler()\n",
    "x_train  = sc.fit_transform(x_train)\n",
    "x_test = sc.transform(x_test)"
   ]
  },
  {
   "cell_type": "code",
   "execution_count": 418,
   "metadata": {},
   "outputs": [],
   "source": [
    "import keras\n",
    "from keras.models import Sequential\n",
    "from keras.layers import Dense"
   ]
  },
  {
   "cell_type": "code",
   "execution_count": 419,
   "metadata": {},
   "outputs": [],
   "source": [
    "# building classifier blueprint.\n",
    "classifier = Sequential()"
   ]
  },
  {
   "cell_type": "code",
   "execution_count": 420,
   "metadata": {},
   "outputs": [],
   "source": [
    "# Input and First Hidden layer\n",
    "classifier.add(Dense(units = 6, activation = 'relu'))"
   ]
  },
  {
   "cell_type": "code",
   "execution_count": 421,
   "metadata": {},
   "outputs": [],
   "source": [
    "# Second Hidden layer\n",
    "classifier.add(Dense(units = 6, activation = 'relu'))"
   ]
  },
  {
   "cell_type": "code",
   "execution_count": 424,
   "metadata": {},
   "outputs": [],
   "source": [
    "# Third Hidden layer\n",
    "classifier.add(Dense(units = 1, activation = 'sigmoid'))"
   ]
  },
  {
   "cell_type": "code",
   "execution_count": 425,
   "metadata": {},
   "outputs": [],
   "source": [
    "# Compiling ANN\n",
    "classifier.compile(optimizer = 'adam', loss = 'binary_crossentropy', metrics = ['accuracy'])"
   ]
  },
  {
   "cell_type": "code",
   "execution_count": 426,
   "metadata": {
    "tags": []
   },
   "outputs": [
    {
     "output_type": "stream",
     "name": "stdout",
     "text": "Epoch 1/100\n250/250 [==============================] - 0s 908us/step - loss: 0.5801 - accuracy: 0.7218\nEpoch 2/100\n250/250 [==============================] - 0s 906us/step - loss: 0.4814 - accuracy: 0.7960\nEpoch 3/100\n250/250 [==============================] - 0s 1ms/step - loss: 0.4572 - accuracy: 0.7960\nEpoch 4/100\n250/250 [==============================] - 0s 1ms/step - loss: 0.4366 - accuracy: 0.7968\nEpoch 5/100\n250/250 [==============================] - 0s 916us/step - loss: 0.4237 - accuracy: 0.8085\nEpoch 6/100\n250/250 [==============================] - 0s 864us/step - loss: 0.4138 - accuracy: 0.8158\nEpoch 7/100\n250/250 [==============================] - 0s 802us/step - loss: 0.4069 - accuracy: 0.8211\nEpoch 8/100\n250/250 [==============================] - 0s 826us/step - loss: 0.3992 - accuracy: 0.8274\nEpoch 9/100\n250/250 [==============================] - 0s 866us/step - loss: 0.3929 - accuracy: 0.8286\nEpoch 10/100\n250/250 [==============================] - 0s 1ms/step - loss: 0.3872 - accuracy: 0.8299\nEpoch 11/100\n250/250 [==============================] - 0s 1ms/step - loss: 0.3822 - accuracy: 0.8286\nEpoch 12/100\n250/250 [==============================] - 0s 848us/step - loss: 0.3774 - accuracy: 0.8394\nEpoch 13/100\n250/250 [==============================] - 0s 822us/step - loss: 0.3737 - accuracy: 0.8422\nEpoch 14/100\n250/250 [==============================] - 0s 788us/step - loss: 0.3697 - accuracy: 0.8431\nEpoch 15/100\n250/250 [==============================] - 0s 836us/step - loss: 0.3657 - accuracy: 0.8455\nEpoch 16/100\n250/250 [==============================] - 0s 996us/step - loss: 0.3623 - accuracy: 0.8514\nEpoch 17/100\n250/250 [==============================] - 0s 1ms/step - loss: 0.3595 - accuracy: 0.8518\nEpoch 18/100\n250/250 [==============================] - 0s 832us/step - loss: 0.3561 - accuracy: 0.8544\nEpoch 19/100\n250/250 [==============================] - 0s 842us/step - loss: 0.3546 - accuracy: 0.8570\nEpoch 20/100\n250/250 [==============================] - 0s 1ms/step - loss: 0.3523 - accuracy: 0.8551\nEpoch 21/100\n250/250 [==============================] - 0s 1ms/step - loss: 0.3505 - accuracy: 0.8576\nEpoch 22/100\n242/250 [============================>.] - ETA: 0s - loss: 0.3458 - accuracy: 0.85250/250 [==============================] - 0s 2ms/step - loss: 0.3474 - accuracy: 0.8569\nEpoch 23/100\n250/250 [==============================] - 0s 1ms/step - loss: 0.3475 - accuracy: 0.8589\nEpoch 24/100\n250/250 [==============================] - 0s 920us/step - loss: 0.3455 - accuracy: 0.8590\nEpoch 25/100\n250/250 [==============================] - 0s 836us/step - loss: 0.3426 - accuracy: 0.8584\nEpoch 26/100\n250/250 [==============================] - 0s 844us/step - loss: 0.3421 - accuracy: 0.8605\nEpoch 27/100\n250/250 [==============================] - 0s 1ms/step - loss: 0.3416 - accuracy: 0.8601\nEpoch 28/100\n250/250 [==============================] - 0s 1ms/step - loss: 0.3411 - accuracy: 0.8600\nEpoch 29/100\n250/250 [==============================] - 0s 852us/step - loss: 0.3398 - accuracy: 0.8608\nEpoch 30/100\n250/250 [==============================] - 0s 816us/step - loss: 0.3393 - accuracy: 0.8619\nEpoch 31/100\n250/250 [==============================] - 0s 788us/step - loss: 0.3395 - accuracy: 0.8601\nEpoch 32/100\n250/250 [==============================] - 0s 772us/step - loss: 0.3392 - accuracy: 0.8609\nEpoch 33/100\n250/250 [==============================] - 0s 930us/step - loss: 0.3380 - accuracy: 0.8609\nEpoch 34/100\n250/250 [==============================] - 0s 1ms/step - loss: 0.3383 - accuracy: 0.8601\nEpoch 35/100\n250/250 [==============================] - 0s 948us/step - loss: 0.3384 - accuracy: 0.8612\nEpoch 36/100\n250/250 [==============================] - 0s 854us/step - loss: 0.3387 - accuracy: 0.8618\nEpoch 37/100\n250/250 [==============================] - 0s 864us/step - loss: 0.3368 - accuracy: 0.8626\nEpoch 38/100\n250/250 [==============================] - 0s 770us/step - loss: 0.3376 - accuracy: 0.8616\nEpoch 39/100\n250/250 [==============================] - 0s 886us/step - loss: 0.3367 - accuracy: 0.8605\nEpoch 40/100\n250/250 [==============================] - 0s 1ms/step - loss: 0.3377 - accuracy: 0.8619\nEpoch 41/100\n250/250 [==============================] - 0s 946us/step - loss: 0.3368 - accuracy: 0.8611\nEpoch 42/100\n250/250 [==============================] - 0s 956us/step - loss: 0.3373 - accuracy: 0.8625\nEpoch 43/100\n250/250 [==============================] - 0s 880us/step - loss: 0.3363 - accuracy: 0.8639\nEpoch 44/100\n250/250 [==============================] - 0s 894us/step - loss: 0.3365 - accuracy: 0.8626\nEpoch 45/100\n250/250 [==============================] - 0s 1ms/step - loss: 0.3367 - accuracy: 0.8618\nEpoch 46/100\n250/250 [==============================] - 0s 2ms/step - loss: 0.3358 - accuracy: 0.8619\nEpoch 47/100\n250/250 [==============================] - 0s 1ms/step - loss: 0.3349 - accuracy: 0.8633\nEpoch 48/100\n250/250 [==============================] - 0s 1ms/step - loss: 0.3360 - accuracy: 0.8631\nEpoch 49/100\n250/250 [==============================] - 0s 870us/step - loss: 0.3357 - accuracy: 0.8636\nEpoch 50/100\n250/250 [==============================] - 0s 1ms/step - loss: 0.3356 - accuracy: 0.8619\nEpoch 51/100\n250/250 [==============================] - 0s 1ms/step - loss: 0.3356 - accuracy: 0.8650\nEpoch 52/100\n250/250 [==============================] - 0s 862us/step - loss: 0.3352 - accuracy: 0.8608\nEpoch 53/100\n250/250 [==============================] - 0s 836us/step - loss: 0.3353 - accuracy: 0.8626\nEpoch 54/100\n250/250 [==============================] - 0s 802us/step - loss: 0.3350 - accuracy: 0.8621\nEpoch 55/100\n250/250 [==============================] - 0s 794us/step - loss: 0.3350 - accuracy: 0.8641\nEpoch 56/100\n250/250 [==============================] - 0s 938us/step - loss: 0.3349 - accuracy: 0.8619\nEpoch 57/100\n250/250 [==============================] - 0s 1ms/step - loss: 0.3357 - accuracy: 0.8626\nEpoch 58/100\n250/250 [==============================] - 0s 894us/step - loss: 0.3341 - accuracy: 0.8626\nEpoch 59/100\n250/250 [==============================] - 0s 888us/step - loss: 0.3346 - accuracy: 0.8622\nEpoch 60/100\n250/250 [==============================] - 0s 848us/step - loss: 0.3347 - accuracy: 0.8616\nEpoch 61/100\n250/250 [==============================] - 0s 794us/step - loss: 0.3346 - accuracy: 0.8615\nEpoch 62/100\n250/250 [==============================] - 0s 908us/step - loss: 0.3341 - accuracy: 0.8635\nEpoch 63/100\n250/250 [==============================] - 0s 1ms/step - loss: 0.3350 - accuracy: 0.8612\nEpoch 64/100\n250/250 [==============================] - 0s 1ms/step - loss: 0.3340 - accuracy: 0.8609\nEpoch 65/100\n250/250 [==============================] - 0s 852us/step - loss: 0.3339 - accuracy: 0.8620\nEpoch 66/100\n250/250 [==============================] - 0s 840us/step - loss: 0.3343 - accuracy: 0.8614\nEpoch 67/100\n250/250 [==============================] - 0s 836us/step - loss: 0.3343 - accuracy: 0.8625\nEpoch 68/100\n250/250 [==============================] - 0s 906us/step - loss: 0.3343 - accuracy: 0.8606\nEpoch 69/100\n250/250 [==============================] - 0s 2ms/step - loss: 0.3332 - accuracy: 0.8636\nEpoch 70/100\n250/250 [==============================] - 0s 2ms/step - loss: 0.3341 - accuracy: 0.8640\nEpoch 71/100\n250/250 [==============================] - 0s 2ms/step - loss: 0.3345 - accuracy: 0.8622\nEpoch 72/100\n250/250 [==============================] - 0s 1ms/step - loss: 0.3341 - accuracy: 0.8640\nEpoch 73/100\n250/250 [==============================] - 0s 1ms/step - loss: 0.3338 - accuracy: 0.8620\nEpoch 74/100\n250/250 [==============================] - 0s 1ms/step - loss: 0.3334 - accuracy: 0.8631\nEpoch 75/100\n250/250 [==============================] - 0s 888us/step - loss: 0.3339 - accuracy: 0.8635\nEpoch 76/100\n250/250 [==============================] - 0s 868us/step - loss: 0.3337 - accuracy: 0.8618\nEpoch 77/100\n250/250 [==============================] - 0s 820us/step - loss: 0.3336 - accuracy: 0.8615\nEpoch 78/100\n250/250 [==============================] - 0s 854us/step - loss: 0.3334 - accuracy: 0.8637\nEpoch 79/100\n250/250 [==============================] - 0s 936us/step - loss: 0.3333 - accuracy: 0.8625\nEpoch 80/100\n250/250 [==============================] - 0s 1ms/step - loss: 0.3326 - accuracy: 0.8619\nEpoch 81/100\n250/250 [==============================] - 0s 870us/step - loss: 0.3331 - accuracy: 0.8634\nEpoch 82/100\n250/250 [==============================] - 0s 838us/step - loss: 0.3324 - accuracy: 0.8630\nEpoch 83/100\n250/250 [==============================] - 0s 866us/step - loss: 0.3330 - accuracy: 0.8635\nEpoch 84/100\n250/250 [==============================] - 0s 804us/step - loss: 0.3322 - accuracy: 0.8637\nEpoch 85/100\n250/250 [==============================] - 0s 906us/step - loss: 0.3328 - accuracy: 0.8651\nEpoch 86/100\n250/250 [==============================] - 0s 1ms/step - loss: 0.3327 - accuracy: 0.8640\nEpoch 87/100\n250/250 [==============================] - 0s 966us/step - loss: 0.3324 - accuracy: 0.8651\nEpoch 88/100\n250/250 [==============================] - 0s 866us/step - loss: 0.3322 - accuracy: 0.8630\nEpoch 89/100\n250/250 [==============================] - 0s 806us/step - loss: 0.3328 - accuracy: 0.8614\nEpoch 90/100\n250/250 [==============================] - 0s 782us/step - loss: 0.3314 - accuracy: 0.8643\nEpoch 91/100\n250/250 [==============================] - 0s 1ms/step - loss: 0.3327 - accuracy: 0.8629\nEpoch 92/100\n250/250 [==============================] - 0s 1ms/step - loss: 0.3321 - accuracy: 0.8639\nEpoch 93/100\n250/250 [==============================] - 0s 2ms/step - loss: 0.3314 - accuracy: 0.8630\nEpoch 94/100\n250/250 [==============================] - 0s 2ms/step - loss: 0.3322 - accuracy: 0.8629\nEpoch 95/100\n250/250 [==============================] - 0s 2ms/step - loss: 0.3326 - accuracy: 0.8637\nEpoch 96/100\n250/250 [==============================] - 0s 1ms/step - loss: 0.3312 - accuracy: 0.8630\nEpoch 97/100\n250/250 [==============================] - 0s 1ms/step - loss: 0.3319 - accuracy: 0.8620\nEpoch 98/100\n250/250 [==============================] - 0s 980us/step - loss: 0.3322 - accuracy: 0.8618\nEpoch 99/100\n250/250 [==============================] - 0s 844us/step - loss: 0.3313 - accuracy: 0.8649\nEpoch 100/100\n250/250 [==============================] - 0s 846us/step - loss: 0.3321 - accuracy: 0.8635\n"
    },
    {
     "output_type": "execute_result",
     "data": {
      "text/plain": "<tensorflow.python.keras.callbacks.History at 0x1e4e19c3d90>"
     },
     "metadata": {},
     "execution_count": 426
    }
   ],
   "source": [
    "# Training ANN\n",
    "classifier.fit(x_train, y_train, batch_size = 32, epochs = 100)"
   ]
  },
  {
   "cell_type": "code",
   "execution_count": 427,
   "metadata": {},
   "outputs": [],
   "source": [
    "# testing using test data\n",
    "y_pred = classifier.predict(x_test)"
   ]
  },
  {
   "cell_type": "code",
   "execution_count": 428,
   "metadata": {},
   "outputs": [],
   "source": [
    "# Setting a threshold of 0.5\n",
    "y_pred = (y_pred>0.5)"
   ]
  },
  {
   "cell_type": "code",
   "execution_count": 429,
   "metadata": {},
   "outputs": [],
   "source": [
    "# Final Comparison\n",
    "final_comparison = np.concatenate((y_pred.reshape(len(y_pred),1), y_test.reshape(len(y_test),1)),1)"
   ]
  },
  {
   "cell_type": "code",
   "execution_count": 430,
   "metadata": {
    "tags": []
   },
   "outputs": [
    {
     "output_type": "stream",
     "name": "stdout",
     "text": "[[0 0]\n [0 1]\n [0 0]\n ...\n [0 0]\n [0 0]\n [0 0]]\n"
    }
   ],
   "source": [
    "print(final_comparison)"
   ]
  },
  {
   "cell_type": "code",
   "execution_count": 431,
   "metadata": {
    "tags": []
   },
   "outputs": [
    {
     "output_type": "stream",
     "name": "stdout",
     "text": "[[1516   79]\n [ 200  205]]\n0.8605\n"
    }
   ],
   "source": [
    "# building Confusion Matrix\n",
    "from sklearn.metrics import confusion_matrix, accuracy_score\n",
    "conf_mtx = confusion_matrix(y_test, y_pred)\n",
    "print(conf_mtx)\n",
    "print(accuracy_score(y_test, y_pred))"
   ]
  },
  {
   "cell_type": "code",
   "execution_count": 432,
   "metadata": {
    "tags": []
   },
   "outputs": [
    {
     "output_type": "stream",
     "name": "stdout",
     "text": "[[0.03480861]]\n"
    }
   ],
   "source": [
    "# Testing using a user provided new pattern\n",
    "print(classifier.predict(sc.transform([[1, 0, 0, 600, 1, 40, 3, 60000, 2, 1, 1, 50000]])))"
   ]
  }
 ]
}